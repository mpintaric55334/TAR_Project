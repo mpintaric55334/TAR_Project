{
 "cells": [
  {
   "cell_type": "code",
   "execution_count": 10,
   "id": "773ffacd-0d4e-4bd2-9357-6a95848d5d12",
   "metadata": {},
   "outputs": [],
   "source": [
    "import sys\n",
    "sys.path.append('../') \n",
    "from data_preprocessing.features import Features\n"
   ]
  },
  {
   "cell_type": "markdown",
   "id": "702dff02-5877-4b10-8878-7e6ee08be7c2",
   "metadata": {},
   "source": [
    "## Explore features"
   ]
  },
  {
   "cell_type": "code",
   "execution_count": 15,
   "id": "2b1e3ff5-71c3-4d72-b44b-47466437e6c6",
   "metadata": {},
   "outputs": [],
   "source": [
    "features = Features()\n",
    "features.extract_features(\"C:\\\\Users\\\\Matija\\\\Desktop\\\\APT_PROJEKT\\\\TAR_Project\\\\data\\\\features.csv\")"
   ]
  },
  {
   "cell_type": "code",
   "execution_count": 16,
   "id": "39c127ea-0a3a-4ea7-aa15-38568eb4763a",
   "metadata": {},
   "outputs": [
    {
     "data": {
      "text/plain": [
       "('Family-history-of-MI-OR-Family-history-of-myocardial-infarction', 0)"
      ]
     },
     "execution_count": 16,
     "metadata": {},
     "output_type": "execute_result"
    }
   ],
   "source": [
    "features.get(0)"
   ]
  },
  {
   "cell_type": "code",
   "execution_count": 18,
   "id": "800628d1-5d83-4841-81a1-19245c455a0f",
   "metadata": {},
   "outputs": [
    {
     "data": {
      "text/plain": [
       "143"
      ]
     },
     "execution_count": 18,
     "metadata": {},
     "output_type": "execute_result"
    }
   ],
   "source": [
    "features.len()"
   ]
  },
  {
   "cell_type": "code",
   "execution_count": null,
   "id": "c2e1119a-6aec-4696-8aac-ebe3547b84b4",
   "metadata": {},
   "outputs": [],
   "source": []
  }
 ],
 "metadata": {
  "kernelspec": {
   "display_name": "Python 3 (ipykernel)",
   "language": "python",
   "name": "python3"
  },
  "language_info": {
   "codemirror_mode": {
    "name": "ipython",
    "version": 3
   },
   "file_extension": ".py",
   "mimetype": "text/x-python",
   "name": "python",
   "nbconvert_exporter": "python",
   "pygments_lexer": "ipython3",
   "version": "3.11.5"
  }
 },
 "nbformat": 4,
 "nbformat_minor": 5
}
